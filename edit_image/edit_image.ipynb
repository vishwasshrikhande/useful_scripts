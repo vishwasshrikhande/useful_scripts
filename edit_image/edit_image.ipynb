{
 "cells": [
  {
   "cell_type": "code",
   "execution_count": 5,
   "metadata": {},
   "outputs": [
    {
     "ename": "ImportError",
     "evalue": "MagickWand shared library not found.\nYou probably had not installed ImageMagick library.\nTry to install:\n  brew install freetype imagemagick",
     "output_type": "error",
     "traceback": [
      "\u001b[0;31m---------------------------------------------------------------------------\u001b[0m",
      "\u001b[0;31mOSError\u001b[0m                                   Traceback (most recent call last)",
      "File \u001b[0;32m/Library/Frameworks/Python.framework/Versions/3.11/lib/python3.11/site-packages/wand/api.py:154\u001b[0m\n\u001b[1;32m    153\u001b[0m \u001b[39mtry\u001b[39;00m:\n\u001b[0;32m--> 154\u001b[0m     libraries \u001b[39m=\u001b[39m load_library()\n\u001b[1;32m    155\u001b[0m \u001b[39mexcept\u001b[39;00m (\u001b[39mOSError\u001b[39;00m, \u001b[39mIOError\u001b[39;00m):\n",
      "File \u001b[0;32m/Library/Frameworks/Python.framework/Versions/3.11/lib/python3.11/site-packages/wand/api.py:143\u001b[0m, in \u001b[0;36mload_library\u001b[0;34m()\u001b[0m\n\u001b[1;32m    142\u001b[0m     \u001b[39mreturn\u001b[39;00m libwand, libmagick\n\u001b[0;32m--> 143\u001b[0m \u001b[39mraise\u001b[39;00m \u001b[39mIOError\u001b[39;00m(\u001b[39m'\u001b[39m\u001b[39mcannot find library; tried paths: \u001b[39m\u001b[39m'\u001b[39m \u001b[39m+\u001b[39m \u001b[39mrepr\u001b[39m(tried_paths))\n",
      "\u001b[0;31mOSError\u001b[0m: cannot find library; tried paths: []",
      "\nDuring handling of the above exception, another exception occurred:\n",
      "\u001b[0;31mImportError\u001b[0m                               Traceback (most recent call last)",
      "\u001b[1;32m/Users/apple/Documents/Code Personal/useful_scripts/edit_image/edit_image.ipynb Cell 1\u001b[0m in \u001b[0;36m3\n\u001b[1;32m      <a href='vscode-notebook-cell:/Users/apple/Documents/Code%20Personal/useful_scripts/edit_image/edit_image.ipynb#W0sZmlsZQ%3D%3D?line=0'>1</a>\u001b[0m \u001b[39m# pip install Wand\u001b[39;00m\n\u001b[1;32m      <a href='vscode-notebook-cell:/Users/apple/Documents/Code%20Personal/useful_scripts/edit_image/edit_image.ipynb#W0sZmlsZQ%3D%3D?line=1'>2</a>\u001b[0m \u001b[39m# for MAC brew install freetype imagemagick\u001b[39;00m\n\u001b[0;32m----> <a href='vscode-notebook-cell:/Users/apple/Documents/Code%20Personal/useful_scripts/edit_image/edit_image.ipynb#W0sZmlsZQ%3D%3D?line=2'>3</a>\u001b[0m \u001b[39mfrom\u001b[39;00m \u001b[39mwand\u001b[39;00m\u001b[39m.\u001b[39;00m\u001b[39mimage\u001b[39;00m \u001b[39mimport\u001b[39;00m Image\n\u001b[1;32m      <a href='vscode-notebook-cell:/Users/apple/Documents/Code%20Personal/useful_scripts/edit_image/edit_image.ipynb#W0sZmlsZQ%3D%3D?line=3'>4</a>\u001b[0m \u001b[39m# load the pic\u001b[39;00m\n\u001b[1;32m      <a href='vscode-notebook-cell:/Users/apple/Documents/Code%20Personal/useful_scripts/edit_image/edit_image.ipynb#W0sZmlsZQ%3D%3D?line=4'>5</a>\u001b[0m pic \u001b[39m=\u001b[39m Image(filename\u001b[39m=\u001b[39m\u001b[39m'\u001b[39m\u001b[39m./images/unsplash.jpg\u001b[39m\u001b[39m'\u001b[39m)\n",
      "File \u001b[0;32m/Library/Frameworks/Python.framework/Versions/3.11/lib/python3.11/site-packages/wand/image.py:18\u001b[0m\n\u001b[1;32m     15\u001b[0m \u001b[39mimport\u001b[39;00m \u001b[39mnumbers\u001b[39;00m\n\u001b[1;32m     16\u001b[0m \u001b[39mimport\u001b[39;00m \u001b[39mweakref\u001b[39;00m\n\u001b[0;32m---> 18\u001b[0m \u001b[39mfrom\u001b[39;00m \u001b[39m.\u001b[39;00m \u001b[39mimport\u001b[39;00m assertions\n\u001b[1;32m     19\u001b[0m \u001b[39mfrom\u001b[39;00m \u001b[39m.\u001b[39;00m\u001b[39mapi\u001b[39;00m \u001b[39mimport\u001b[39;00m libc, libmagick, library\n\u001b[1;32m     20\u001b[0m \u001b[39mfrom\u001b[39;00m \u001b[39m.\u001b[39;00m\u001b[39mcolor\u001b[39;00m \u001b[39mimport\u001b[39;00m Color\n",
      "File \u001b[0;32m/Library/Frameworks/Python.framework/Versions/3.11/lib/python3.11/site-packages/wand/assertions.py:155\u001b[0m\n\u001b[1;32m    151\u001b[0m     in_list(options, label, \u001b[39m*\u001b[39m\u001b[39m*\u001b[39mkwargs)\n\u001b[1;32m    154\u001b[0m \u001b[39m# Lazy load recursive import\u001b[39;00m\n\u001b[0;32m--> 155\u001b[0m \u001b[39mfrom\u001b[39;00m \u001b[39m.\u001b[39;00m\u001b[39mcolor\u001b[39;00m \u001b[39mimport\u001b[39;00m Color  \u001b[39m# noqa: E402\u001b[39;00m\n",
      "File \u001b[0;32m/Library/Frameworks/Python.framework/Versions/3.11/lib/python3.11/site-packages/wand/color.py:10\u001b[0m\n\u001b[1;32m      7\u001b[0m \u001b[39mimport\u001b[39;00m \u001b[39mctypes\u001b[39;00m\n\u001b[1;32m      8\u001b[0m \u001b[39mimport\u001b[39;00m \u001b[39mnumbers\u001b[39;00m\n\u001b[0;32m---> 10\u001b[0m \u001b[39mfrom\u001b[39;00m \u001b[39m.\u001b[39;00m\u001b[39mapi\u001b[39;00m \u001b[39mimport\u001b[39;00m library\n\u001b[1;32m     11\u001b[0m \u001b[39mfrom\u001b[39;00m \u001b[39m.\u001b[39;00m\u001b[39mcdefs\u001b[39;00m\u001b[39m.\u001b[39;00m\u001b[39mstructures\u001b[39;00m \u001b[39mimport\u001b[39;00m MagickPixelPacket, PixelInfo\n\u001b[1;32m     12\u001b[0m \u001b[39mfrom\u001b[39;00m \u001b[39m.\u001b[39;00m\u001b[39mcompat\u001b[39;00m \u001b[39mimport\u001b[39;00m binary, text\n",
      "File \u001b[0;32m/Library/Frameworks/Python.framework/Versions/3.11/lib/python3.11/site-packages/wand/api.py:178\u001b[0m\n\u001b[1;32m    176\u001b[0m         \u001b[39melif\u001b[39;00m distname \u001b[39min\u001b[39;00m (\u001b[39m'\u001b[39m\u001b[39mfedora\u001b[39m\u001b[39m'\u001b[39m, \u001b[39m'\u001b[39m\u001b[39mcentos\u001b[39m\u001b[39m'\u001b[39m, \u001b[39m'\u001b[39m\u001b[39mredhat\u001b[39m\u001b[39m'\u001b[39m):\n\u001b[1;32m    177\u001b[0m             msg \u001b[39m=\u001b[39m \u001b[39m'\u001b[39m\u001b[39myum install ImageMagick-devel\u001b[39m\u001b[39m'\u001b[39m\n\u001b[0;32m--> 178\u001b[0m     \u001b[39mraise\u001b[39;00m \u001b[39mImportError\u001b[39;00m(\u001b[39m'\u001b[39m\u001b[39mMagickWand shared library not found.\u001b[39m\u001b[39m\\n\u001b[39;00m\u001b[39m'\u001b[39m\n\u001b[1;32m    179\u001b[0m                       \u001b[39m'\u001b[39m\u001b[39mYou probably had not installed ImageMagick library.\u001b[39m\u001b[39m\\n\u001b[39;00m\u001b[39m'\u001b[39m\n\u001b[1;32m    180\u001b[0m                       \u001b[39m'\u001b[39m\u001b[39mTry to install:\u001b[39m\u001b[39m\\n\u001b[39;00m\u001b[39m  \u001b[39m\u001b[39m'\u001b[39m \u001b[39m+\u001b[39m msg)\n\u001b[1;32m    182\u001b[0m \u001b[39m#: (:class:`ctypes.CDLL`) The MagickWand library.\u001b[39;00m\n\u001b[1;32m    183\u001b[0m library \u001b[39m=\u001b[39m libraries[\u001b[39m0\u001b[39m]\n",
      "\u001b[0;31mImportError\u001b[0m: MagickWand shared library not found.\nYou probably had not installed ImageMagick library.\nTry to install:\n  brew install freetype imagemagick"
     ]
    }
   ],
   "source": [
    "# pip install Wand\n",
    "# for MAC brew install freetype imagemagick\n",
    "from wand.image import Image\n",
    "# load the pic\n",
    "pic = Image(filename='./images/unsplash.jpg')\n",
    "\n"
   ]
  },
  {
   "cell_type": "code",
   "execution_count": null,
   "metadata": {},
   "outputs": [],
   "source": [
    "# resize pics\n",
    "pic.resize(200, 200)\n",
    "\n",
    "# crop pics\n",
    "pic.crop(0, 0, 100, 100)\n",
    "\n",
    "# flip pics\n",
    "pic.flip()\n",
    "\n",
    "# rotate pics\n",
    "pic.rotate(90)\n",
    "\n",
    "# compress pics\n",
    "pic.compression_quality = 99\n",
    "\n",
    "# blur pics\n",
    "pic.blur()\n",
    "\n",
    "# sharpen pics\n",
    "pic.sharpen()\n",
    "\n",
    "# combine pics\n",
    "pic2 = Image(filename='pic2.png')\n",
    "pic.sequence.append(pic2)\n",
    "\n",
    "# compare pics\n",
    "result = pic.compare(pic2)\n",
    "\n",
    "# GreyScale Pic\n",
    "pic.type = 'grayscale'\n",
    "\n",
    "# Transpose Pic\n",
    "pic.transpose()\n",
    "\n",
    "# save pics\n",
    "pic.save(filename='pic3.png')"
   ]
  }
 ],
 "metadata": {
  "kernelspec": {
   "display_name": "Python 3",
   "language": "python",
   "name": "python3"
  },
  "language_info": {
   "codemirror_mode": {
    "name": "ipython",
    "version": 3
   },
   "file_extension": ".py",
   "mimetype": "text/x-python",
   "name": "python",
   "nbconvert_exporter": "python",
   "pygments_lexer": "ipython3",
   "version": "3.11.0"
  },
  "orig_nbformat": 4
 },
 "nbformat": 4,
 "nbformat_minor": 2
}
