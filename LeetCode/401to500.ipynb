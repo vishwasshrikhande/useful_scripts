{
 "cells": [
  {
   "cell_type": "code",
   "execution_count": null,
   "metadata": {},
   "outputs": [],
   "source": [
    "#412\n",
    "# Given an integer n, return a string array answer (1-indexed) where:\n",
    "\n",
    "#     answer[i] == \"FizzBuzz\" if i is divisible by 3 and 5.\n",
    "#     answer[i] == \"Fizz\" if i is divisible by 3.\n",
    "#     answer[i] == \"Buzz\" if i is divisible by 5.\n",
    "#     answer[i] == i (as a string) if none of the above conditions are true.\n",
    "\n",
    "# Example 2:\n",
    "# Input: n = 5\n",
    "# Output: [\"1\",\"2\",\"Fizz\",\"4\",\"Buzz\"]\n",
    "\n",
    "class LC412:\n",
    "    def fizzBuzz(self, n: int) -> list[str]:\n",
    "        outList = []\n",
    "        i = 1\n",
    "        while i <= n:\n",
    "            outString=''\n",
    "            if i%3 == 0: outString = outString + 'Fizz'\n",
    "            if i%5 == 0: outString = outString + 'Buzz'\n",
    "            if i%3!=0 and i%5!=0: \n",
    "                outString= outString + str(i)\n",
    "            outList.append(outString)\n",
    "            i +=1\n",
    "        return outList\n",
    "\n",
    "LC412().fizzBuzz(15)"
   ]
  }
 ],
 "metadata": {
  "kernelspec": {
   "display_name": "Python 3.10.0 64-bit",
   "language": "python",
   "name": "python3"
  },
  "language_info": {
   "codemirror_mode": {
    "name": "ipython",
    "version": 3
   },
   "file_extension": ".py",
   "mimetype": "text/x-python",
   "name": "python",
   "nbconvert_exporter": "python",
   "pygments_lexer": "ipython3",
   "version": "3.10.0"
  },
  "orig_nbformat": 4,
  "vscode": {
   "interpreter": {
    "hash": "9d630142dfe4808f1d2467e3a9ffc18dafa67b34947d29d7dd8a23c8c3fac1ef"
   }
  }
 },
 "nbformat": 4,
 "nbformat_minor": 2
}
