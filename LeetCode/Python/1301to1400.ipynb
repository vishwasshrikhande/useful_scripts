{
 "cells": [
  {
   "cell_type": "code",
   "execution_count": null,
   "metadata": {},
   "outputs": [],
   "source": [
    "# 1342. Number of Steps to Reduce a Number to Zero\n",
    "# Given an integer num, return the number of steps to reduce it to zero.\n",
    "# In one step, if the current number is even, you have to divide it by 2, otherwise, you have to subtract 1 from it.\n",
    "\n",
    "# Example 1:\n",
    "# Input: num = 14\n",
    "# Output: 6\n",
    "# Explanation: \n",
    "# Step 1) 14 is even; divide by 2 and obtain 7. \n",
    "# Step 2) 7 is odd; subtract 1 and obtain 6.\n",
    "# Step 3) 6 is even; divide by 2 and obtain 3. \n",
    "# Step 4) 3 is odd; subtract 1 and obtain 2. \n",
    "# Step 5) 2 is even; divide by 2 and obtain 1. \n",
    "# Step 6) 1 is odd; subtract 1 and obtain 0.\n",
    "\n",
    "class LC1342:\n",
    "    def numberOfSteps(self, num: int) -> int:\n",
    "        steps = 0\n",
    "        while num >0:\n",
    "            if num%2==0:\n",
    "                num = num/2\n",
    "                steps += 1\n",
    "            if num%2!=0:\n",
    "                num -= 1\n",
    "                steps +=1\n",
    "        return steps\n",
    "\n",
    "\n",
    "LC1342().numberOfSteps(20000)\n",
    "        "
   ]
  }
 ],
 "metadata": {
  "kernelspec": {
   "display_name": "Python 3.10.4 64-bit",
   "language": "python",
   "name": "python3"
  },
  "language_info": {
   "codemirror_mode": {
    "name": "ipython",
    "version": 3
   },
   "file_extension": ".py",
   "mimetype": "text/x-python",
   "name": "python",
   "nbconvert_exporter": "python",
   "pygments_lexer": "ipython3",
   "version": "3.10.4"
  },
  "orig_nbformat": 4,
  "vscode": {
   "interpreter": {
    "hash": "aee8b7b246df8f9039afb4144a1f6fd8d2ca17a180786b69acc140d282b71a49"
   }
  }
 },
 "nbformat": 4,
 "nbformat_minor": 2
}
