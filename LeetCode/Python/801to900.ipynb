{
 "cells": [
  {
   "cell_type": "code",
   "execution_count": 3,
   "metadata": {},
   "outputs": [
    {
     "ename": "NameError",
     "evalue": "name 'Optional' is not defined",
     "output_type": "error",
     "traceback": [
      "\u001b[0;31m---------------------------------------------------------------------------\u001b[0m",
      "\u001b[0;31mNameError\u001b[0m                                 Traceback (most recent call last)",
      "\u001b[1;32m/Users/vishwas/Documents/Devlopment/Python/Personal/Own/useful_scripts/LeetCode/801to900.ipynb Cell 1\u001b[0m in \u001b[0;36m<cell line: 20>\u001b[0;34m()\u001b[0m\n\u001b[1;32m      <a href='vscode-notebook-cell:/Users/vishwas/Documents/Devlopment/Python/Personal/Own/useful_scripts/LeetCode/801to900.ipynb#ch0000000?line=0'>1</a>\u001b[0m \u001b[39m# 876. Middle of the Linked List\u001b[39;00m\n\u001b[1;32m      <a href='vscode-notebook-cell:/Users/vishwas/Documents/Devlopment/Python/Personal/Own/useful_scripts/LeetCode/801to900.ipynb#ch0000000?line=1'>2</a>\u001b[0m \u001b[39m# Given the head of a singly linked list, return the middle node of the linked list.\u001b[39;00m\n\u001b[1;32m      <a href='vscode-notebook-cell:/Users/vishwas/Documents/Devlopment/Python/Personal/Own/useful_scripts/LeetCode/801to900.ipynb#ch0000000?line=2'>3</a>\u001b[0m \u001b[39m# If there are two middle nodes, return the second middle node.\u001b[39;00m\n\u001b[0;32m   (...)\u001b[0m\n\u001b[1;32m     <a href='vscode-notebook-cell:/Users/vishwas/Documents/Devlopment/Python/Personal/Own/useful_scripts/LeetCode/801to900.ipynb#ch0000000?line=17'>18</a>\u001b[0m \u001b[39m#         self.val = val\u001b[39;00m\n\u001b[1;32m     <a href='vscode-notebook-cell:/Users/vishwas/Documents/Devlopment/Python/Personal/Own/useful_scripts/LeetCode/801to900.ipynb#ch0000000?line=18'>19</a>\u001b[0m \u001b[39m#         self.next = next\u001b[39;00m\n\u001b[0;32m---> <a href='vscode-notebook-cell:/Users/vishwas/Documents/Devlopment/Python/Personal/Own/useful_scripts/LeetCode/801to900.ipynb#ch0000000?line=19'>20</a>\u001b[0m \u001b[39mclass\u001b[39;00m \u001b[39mLC876\u001b[39;00m:\n\u001b[1;32m     <a href='vscode-notebook-cell:/Users/vishwas/Documents/Devlopment/Python/Personal/Own/useful_scripts/LeetCode/801to900.ipynb#ch0000000?line=20'>21</a>\u001b[0m     \u001b[39mdef\u001b[39;00m \u001b[39mmiddleNode\u001b[39m(\u001b[39mself\u001b[39m, head: Optional[ListNode]) \u001b[39m-\u001b[39m\u001b[39m>\u001b[39m Optional[ListNode]:\n\u001b[1;32m     <a href='vscode-notebook-cell:/Users/vishwas/Documents/Devlopment/Python/Personal/Own/useful_scripts/LeetCode/801to900.ipynb#ch0000000?line=22'>23</a>\u001b[0m         \u001b[39mreturn\u001b[39;00m\n",
      "\u001b[1;32m/Users/vishwas/Documents/Devlopment/Python/Personal/Own/useful_scripts/LeetCode/801to900.ipynb Cell 1\u001b[0m in \u001b[0;36mLC876\u001b[0;34m()\u001b[0m\n\u001b[1;32m     <a href='vscode-notebook-cell:/Users/vishwas/Documents/Devlopment/Python/Personal/Own/useful_scripts/LeetCode/801to900.ipynb#ch0000000?line=19'>20</a>\u001b[0m \u001b[39mclass\u001b[39;00m \u001b[39mLC876\u001b[39;00m:\n\u001b[0;32m---> <a href='vscode-notebook-cell:/Users/vishwas/Documents/Devlopment/Python/Personal/Own/useful_scripts/LeetCode/801to900.ipynb#ch0000000?line=20'>21</a>\u001b[0m     \u001b[39mdef\u001b[39;00m \u001b[39mmiddleNode\u001b[39m(\u001b[39mself\u001b[39m, head: Optional[ListNode]) \u001b[39m-\u001b[39m\u001b[39m>\u001b[39m Optional[ListNode]:\n\u001b[1;32m     <a href='vscode-notebook-cell:/Users/vishwas/Documents/Devlopment/Python/Personal/Own/useful_scripts/LeetCode/801to900.ipynb#ch0000000?line=22'>23</a>\u001b[0m         \u001b[39mreturn\u001b[39;00m\n",
      "\u001b[0;31mNameError\u001b[0m: name 'Optional' is not defined"
     ]
    }
   ],
   "source": [
    "# 876. Middle of the Linked List\n",
    "# Given the head of a singly linked list, return the middle node of the linked list.\n",
    "# If there are two middle nodes, return the second middle node.\n",
    "\n",
    "# Example 1:\n",
    "# Input: head = [1,2,3,4,5]\n",
    "# Output: [3,4,5]\n",
    "# Explanation: The middle node of the list is node 3.\n",
    "\n",
    "# Example 2:\n",
    "# Input: head = [1,2,3,4,5,6]\n",
    "# Output: [4,5,6]\n",
    "# Explanation: Since the list has two middle nodes with values 3 and 4, we return the second one.\n",
    "\n",
    "# Definition for singly-linked list.\n",
    "# class ListNode:\n",
    "#     def __init__(self, val=0, next=None):\n",
    "#         self.val = val\n",
    "#         self.next = next\n",
    "class LC876:\n",
    "    def middleNode(self, head):\n",
    "        mid = int((len(head)/2))+1\n",
    "        midnode = head\n",
    "        for i in head:\n",
    "            if midnode\n",
    "        returnList.append()\n",
    "\n",
    "\n",
    "LC876().middleNode([1,2,3,4,5])\n",
    "        "
   ]
  }
 ],
 "metadata": {
  "kernelspec": {
   "display_name": "Python 3.10.4 64-bit",
   "language": "python",
   "name": "python3"
  },
  "language_info": {
   "codemirror_mode": {
    "name": "ipython",
    "version": 3
   },
   "file_extension": ".py",
   "mimetype": "text/x-python",
   "name": "python",
   "nbconvert_exporter": "python",
   "pygments_lexer": "ipython3",
   "version": "3.10.4"
  },
  "orig_nbformat": 4,
  "vscode": {
   "interpreter": {
    "hash": "aee8b7b246df8f9039afb4144a1f6fd8d2ca17a180786b69acc140d282b71a49"
   }
  }
 },
 "nbformat": 4,
 "nbformat_minor": 2
}
