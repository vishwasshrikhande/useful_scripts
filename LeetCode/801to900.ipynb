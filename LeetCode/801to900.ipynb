{
 "cells": [
  {
   "cell_type": "code",
   "execution_count": null,
   "metadata": {},
   "outputs": [],
   "source": [
    "# 876. Middle of the Linked List\n",
    "# Given the head of a singly linked list, return the middle node of the linked list.\n",
    "# If there are two middle nodes, return the second middle node.\n",
    "\n",
    "# Input: head = [1,2,3,4,5,6]\n",
    "# Output: [4,5,6]\n",
    "# Explanation: Since the list has two middle nodes with values 3 and 4, we return the second one.\n",
    "\n",
    "# Input: head = [1,2,3,4,5]\n",
    "# Output: [3,4,5]\n",
    "# Explanation: The middle node of the list is node 3.\n",
    "\n",
    "# Definition for singly-linked list.\n",
    "# class ListNode:\n",
    "#     def __init__(self, val=0, next=None):\n",
    "#         self.val = val\n",
    "#         self.next = next\n",
    "class LC876:\n",
    "    def middleNode(self, head: Optional[ListNode]) -> Optional[ListNode]:\n",
    "        start = head \n",
    "        cnt = 0\n",
    "        while(start):\n",
    "            cnt+=1\n",
    "            start = start.next \n",
    "\n",
    "        startinsert=cnt/2\n",
    "        start = head \n",
    "        tmp=0\n",
    "        while(start):\n",
    "                tmp+=1\n",
    "                if tmp >= startinsert:\n",
    "                    return start\n",
    "                start=start.next \n",
    "\n",
    "LC876.middleNode()"
   ]
  }
 ],
 "metadata": {
  "kernelspec": {
   "display_name": "Python 3.10.4 64-bit",
   "language": "python",
   "name": "python3"
  },
  "language_info": {
   "name": "python",
   "version": "3.10.4"
  },
  "orig_nbformat": 4,
  "vscode": {
   "interpreter": {
    "hash": "aee8b7b246df8f9039afb4144a1f6fd8d2ca17a180786b69acc140d282b71a49"
   }
  }
 },
 "nbformat": 4,
 "nbformat_minor": 2
}
