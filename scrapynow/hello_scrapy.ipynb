{
 "cells": [
  {
   "cell_type": "code",
   "execution_count": 2,
   "metadata": {},
   "outputs": [],
   "source": [
    "import scrapy\n",
    "\n",
    "class QuotesSpider(scrapy.Spider):\n",
    "    name = 'quotes'\n",
    "\n",
    "    def start_requests(self):\n",
    "        url = 'https://quotes.toscrape.com/'\n",
    "        yield scrapy.Request(url, callback=self.parse)\n",
    "\n",
    "    def parse(self, response):\n",
    "        for quote in response.css('div.quote'):\n",
    "            yield {\n",
    "                'text': quote.css('span.text::text').get(),\n",
    "                'author': quote.css('small.author::text').get(),\n",
    "                'tags': quote.css('div.tags a.tag::text').getall()\n",
    "            }\n",
    "        \n",
    "        # go to next page\n",
    "        next_page = response.css(\"li.next a::attr(href)\").extract_first()\n",
    "        if next_page:\n",
    "            yield response.follow(next_page, callback=self.parse)\n"
   ]
  },
  {
   "cell_type": "code",
   "execution_count": null,
   "metadata": {},
   "outputs": [],
   "source": [
    "# How it differs from other scrapers\n",
    "# Making GET, POST, etc. requests\n",
    "# Extracting data from the page with CSS & XPath selectors\n",
    "# Detecting failed requests & automatically retrying\n",
    "# Parallelising requests with inbuilt concurrency functionality\n",
    "# Crawling entire websites with pagination, sitemap and link following\n",
    "# Cleaning, validatiing and post-processing scraped data with pipelines\n",
    "# Saving data to CSV/JSON files, databases and object storage\n",
    "# And much much more."
   ]
  },
  {
   "cell_type": "code",
   "execution_count": null,
   "metadata": {},
   "outputs": [],
   "source": []
  }
 ],
 "metadata": {
  "kernelspec": {
   "display_name": "Python 3",
   "language": "python",
   "name": "python3"
  },
  "language_info": {
   "codemirror_mode": {
    "name": "ipython",
    "version": 3
   },
   "file_extension": ".py",
   "mimetype": "text/x-python",
   "name": "python",
   "nbconvert_exporter": "python",
   "pygments_lexer": "ipython3",
   "version": "3.10.0"
  },
  "orig_nbformat": 4
 },
 "nbformat": 4,
 "nbformat_minor": 2
}
