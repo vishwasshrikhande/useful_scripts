{
 "cells": [
  {
   "cell_type": "code",
   "execution_count": null,
   "metadata": {},
   "outputs": [],
   "source": [
    "import pandas as pd\n",
    "import gzip,json,os,openai\n",
    "\n",
    "openai.api_key  = os.getenv('OPENAI_API_KEY')\n"
   ]
  },
  {
   "cell_type": "code",
   "execution_count": null,
   "metadata": {},
   "outputs": [],
   "source": [
    "def get_completion(prompt, model=\"gpt-3.5-turbo\"):\n",
    "    messages = [{\"role\": \"user\", \"content\": prompt}]\n",
    "    response = openai.ChatCompletion.create(\n",
    "        model=model,\n",
    "        messages=messages,\n",
    "        temperature=0, # this is the degree of randomness of the model's output\n",
    "    )\n",
    "    return response.choices[0].message[\"content\"]\n",
    "\n",
    "#https://nijianmo.github.io/amazon/index.html\n",
    "\n",
    "def parse(path):\n",
    "  g = gzip.open(path, 'rb')\n",
    "  for l in g:\n",
    "    yield json.loads(l)\n",
    "\n",
    "def getDF(path):\n",
    "  i = 0\n",
    "  df = {}\n",
    "  for d in parse(path):\n",
    "    df[i] = d\n",
    "    i += 1\n",
    "  return pd.DataFrame.from_dict(df, orient='index')"
   ]
  },
  {
   "cell_type": "code",
   "execution_count": 58,
   "metadata": {},
   "outputs": [],
   "source": [
    "#getting text reviews\n",
    "df = getDF('Appliances_5.json.gz')\n",
    "text_random = df.query('reviewText.str.len()>50 & reviewText.str.len()<200').sample(n=10)\n"
   ]
  },
  {
   "cell_type": "code",
   "execution_count": 60,
   "metadata": {},
   "outputs": [
    {
     "name": "stdout",
     "output_type": "stream",
     "text": [
      "{\n",
      "  \"text\": \"I use these regular on my jobs I love the pricing too\",\n",
      "  \"sentiment\": \"positive\",\n",
      "  \"sentiment keywords\": [\"love\", \"pricing\"],\n",
      "  \"summary\": \"Regular use, love the pricing on my jobs\"\n",
      "}\n",
      "{\n",
      "  \"text\": \"Worked great!! I just wonder how long they last. Guess I'll find out. This product is very easy to install!!\",\n",
      "  \"sentiment\": \"positive\",\n",
      "  \"sentiment keywords\": [\"great\", \"easy\"],\n",
      "  \"summary\": \"Product worked great, easy to install, curious about durability.\"\n",
      "}\n",
      "{\n",
      "  \"text\": \"This muti pack makes sure I always have the part to finish the job. I can be in and out with a check in hand.\",\n",
      "  \"sentiment\": \"positive\",\n",
      "  \"sentiment keywords\": [\"always\", \"finish\", \"job\"],\n",
      "  \"summary\": \"Muti pack ensures availability of parts for quick job completion.\"\n",
      "}\n",
      "{\n",
      "  \"text\": \"Worked great. Tastes the same as the more expensive brand filters\",\n",
      "  \"sentiment\": \"positive\",\n",
      "  \"sentiment keywords\": [\"great\", \"same\"],\n",
      "  \"summary\": \"Affordable filter that performs as well as expensive brands\"\n",
      "}\n",
      "{\n",
      "  \"text\": \"Price is good and it makes sense to have a few spare fuses on hand. Delivery was excellent.\",\n",
      "  \"sentiment\": \"positive\",\n",
      "  \"sentiment keywords\": [\"good\", \"excellent\"],\n",
      "  \"summary\": \"Good price, spare fuses, and excellent delivery.\"\n",
      "}\n",
      "{\n",
      "  \"text\": \"First time I used this brand. But will buy it again. Worked just like all the others I have bought in the past\",\n",
      "  \"sentiment\": \"positive\",\n",
      "  \"sentiment keywords\": [\"brand\", \"buy\", \"worked\", \"others\", \"past\"],\n",
      "  \"summary\": \"Positive experience with this brand, will buy again.\"\n",
      "}\n",
      "{\n",
      "  \"text\": \"Tastes like the original filter I bought. But costs a lot less.\",\n",
      "  \"sentiment\": \"positive\",\n",
      "  \"sentiment keywords\": [\"tastes\", \"original\", \"less\"],\n",
      "  \"summary\": \"Tastes like original filter, costs less than the original.\"\n",
      "}\n",
      "{\n",
      "  \"text\": \"The connect did not match up where I had to modify it to work.\",\n",
      "  \"sentiment\": \"negative\",\n",
      "  \"sentiment keywords\": [\"did not match up\", \"modify\"],\n",
      "  \"summary\": \"Connectivity issue required modification to resolve.\"\n",
      "}\n",
      "{\n",
      "  \"text\": \"I only use the namebrand filters. I believe that you get what you pay for and I have used these filters for years. They suit my needs.\",\n",
      "  \"sentiment\": \"positive\",\n",
      "  \"sentiment keywords\": [\"namebrand\", \"believe\", \"used\", \"suit\"],\n",
      "  \"summary\": \"Namebrand filters suit my needs, used for years, believe in quality.\"\n",
      "}\n",
      "{\n",
      "  \"text\": \"A hose was included with our machine so we didn't need this. Otherwise it would have been fine.\",\n",
      "  \"sentiment\": \"neutral\",\n",
      "  \"sentiment keywords\": [],\n",
      "  \"summary\": \"Hose included with machine, otherwise fine.\"\n",
      "}\n"
     ]
    }
   ],
   "source": [
    "# text_5 = text_review.head(5)\n",
    "for index,row in text_random.iterrows():\n",
    "    text = row['reviewText']\n",
    "    prompt = f\"\"\"\n",
    "        Use the text delimited by tripe backticks for the following exercise\n",
    "        Extract the sentiment from text, it can only be positive, negative or neutral\n",
    "        If the text suggests something, extract it and summarize the text in 10 words\n",
    "\n",
    "        Give the output in json format with the following keys\n",
    "        text in full, sentiment, sentiment keywords, summmary\n",
    "\n",
    "        ```{text}```\n",
    "    \"\"\"\n",
    "    response = get_completion(prompt)\n",
    "    print(response)\n",
    "\n",
    "\n"
   ]
  }
 ],
 "metadata": {
  "kernelspec": {
   "display_name": "Python 3",
   "language": "python",
   "name": "python3"
  },
  "language_info": {
   "codemirror_mode": {
    "name": "ipython",
    "version": 3
   },
   "file_extension": ".py",
   "mimetype": "text/x-python",
   "name": "python",
   "nbconvert_exporter": "python",
   "pygments_lexer": "ipython3",
   "version": "3.10.0"
  },
  "orig_nbformat": 4
 },
 "nbformat": 4,
 "nbformat_minor": 2
}
