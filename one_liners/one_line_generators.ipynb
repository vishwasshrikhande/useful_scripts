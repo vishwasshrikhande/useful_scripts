{
 "cells": [
  {
   "cell_type": "code",
   "execution_count": null,
   "metadata": {},
   "outputs": [],
   "source": [
    "# creating natural numbers\n",
    "def natural_numbers():\n",
    "    n = 1\n",
    "    while True:\n",
    "        yield n\n",
    "        n += 1\n",
    "\n",
    "for num in natural_numbers():\n",
    "    print(num)\n",
    "    if num >= 5:\n",
    "        break"
   ]
  },
  {
   "cell_type": "code",
   "execution_count": null,
   "metadata": {},
   "outputs": [],
   "source": [
    "#creating fibonacci series\n",
    "def fibonacci():\n",
    "    a, b = 0, 1\n",
    "    while True:\n",
    "        yield a\n",
    "        a, b = b, a + b\n",
    "\n",
    "f = fibonacci()\n",
    "for _ in range(20):\n",
    "    print(next(f))"
   ]
  },
  {
   "cell_type": "code",
   "execution_count": null,
   "metadata": {},
   "outputs": [],
   "source": [
    "#Generators can also receive values using the send() method, allowing you to manipulate the yielded values\n",
    "def tracker():\n",
    "    while True:\n",
    "        x = yield\n",
    "        print(\"Tracked:\", x)\n",
    "\n",
    "t = tracker()\n",
    "next(t)  # Advance to first yield\n",
    "t.send(\"Hello\")\n",
    "t.send(\"Python\")"
   ]
  },
  {
   "cell_type": "code",
   "execution_count": null,
   "metadata": {},
   "outputs": [],
   "source": [
    "#filter logs\n",
    "#change file to log file, and row 9, change text to 'error'\n",
    "def read_file(file_name):\n",
    "    with open(file_name, \"r\") as file:\n",
    "        for line in file:\n",
    "            yield line\n",
    "\n",
    "def filter_lines(lines):\n",
    "    return (line for line in lines if \"Exiting\" in line)\n",
    "logs = read_file(\"../data/log.txt\")\n",
    "filtered_logs = filter_lines(logs)\n",
    "for log in filtered_logs:\n",
    "    print(log)"
   ]
  },
  {
   "cell_type": "code",
   "execution_count": null,
   "metadata": {},
   "outputs": [],
   "source": [
    "#generating on demand data\n",
    "def fetch_data(database, batch_size=1000):\n",
    "    offset = 0\n",
    "    while True:\n",
    "        data = database.fetch(offset, offset + batch_size)\n",
    "        if not data:\n",
    "            break\n",
    "        offset += batch_size\n",
    "        for record in data:\n",
    "            yield record"
   ]
  },
  {
   "cell_type": "code",
   "execution_count": null,
   "metadata": {},
   "outputs": [],
   "source": [
    "#co-routines\n",
    "def task(name, task_queue):\n",
    "    while not task_queue.empty():\n",
    "        delay = task_queue.get()\n",
    "        yield delay\n",
    "        print(f\"Task {name} ran\")\n",
    "\n",
    "import queue, time\n",
    "task_queue = queue.Queue()\n",
    "# Fill task queue\n",
    "for i in range(5):\n",
    "    task_queue.put(i)\n",
    "# Start tasks\n",
    "tasks = [task(i, task_queue) for i in range(3)]\n",
    "while tasks:\n",
    "    for t in tasks:\n",
    "        try:\n",
    "            time.sleep(next(t))\n",
    "        except StopIteration:\n",
    "            tasks.remove(t)"
   ]
  },
  {
   "cell_type": "code",
   "execution_count": null,
   "metadata": {},
   "outputs": [],
   "source": [
    "#create multiple independent generators from a single input generator\n",
    "import itertools\n",
    "def numbers():\n",
    "    for i in range(10):\n",
    "        yield i\n",
    "\n",
    "gen1, gen2 = itertools.tee(numbers())"
   ]
  },
  {
   "cell_type": "code",
   "execution_count": null,
   "metadata": {},
   "outputs": [],
   "source": [
    "#streaming csv file\n",
    "import csv\n",
    "def csv_reader(file_name):\n",
    "    for row in csv.reader(open(file_name)):\n",
    "        yield row\n",
    "\n",
    "for line in csv_reader('../data/Iris.csv'):\n",
    "    print(line)"
   ]
  },
  {
   "cell_type": "code",
   "execution_count": null,
   "metadata": {},
   "outputs": [],
   "source": [
    "#simulate real time data\n",
    "import time, random\n",
    "def sensor_data():\n",
    "    while True:\n",
    "        yield random.randint(0, 100)\n",
    "        time.sleep(1)\n",
    "\n",
    "for data in sensor_data():\n",
    "    print(data)"
   ]
  },
  {
   "cell_type": "code",
   "execution_count": null,
   "metadata": {},
   "outputs": [],
   "source": [
    "#control generator using throw()\n",
    "def controlled_generator():\n",
    "    while True:\n",
    "        try:\n",
    "            yield\n",
    "        except CustomException:\n",
    "            print(\"Custom exception handled!\")\n",
    "        except Exception:\n",
    "            print(\"Exception handled!\")\n",
    "\n",
    "gen = controlled_generator()\n",
    "next(gen)  # Advance to first yield\n",
    "gen.throw(Exception)"
   ]
  },
  {
   "cell_type": "code",
   "execution_count": null,
   "metadata": {},
   "outputs": [],
   "source": []
  }
 ],
 "metadata": {
  "kernelspec": {
   "display_name": "Python 3",
   "language": "python",
   "name": "python3"
  },
  "language_info": {
   "codemirror_mode": {
    "name": "ipython",
    "version": 3
   },
   "file_extension": ".py",
   "mimetype": "text/x-python",
   "name": "python",
   "nbconvert_exporter": "python",
   "pygments_lexer": "ipython3",
   "version": "3.10.0"
  },
  "orig_nbformat": 4
 },
 "nbformat": 4,
 "nbformat_minor": 2
}
