{
 "cells": [
  {
   "cell_type": "code",
   "execution_count": 1,
   "metadata": {},
   "outputs": [
    {
     "name": "stdout",
     "output_type": "stream",
     "text": [
      "[32, 12, 23, 56, 89]\n"
     ]
    }
   ],
   "source": [
    "#sorting\n",
    "\n",
    "li = [23, 56, 89, 32, 12]\n",
    "li.sort(key=lambda x: str(x)[1])\n",
    "print(li)"
   ]
  },
  {
   "cell_type": "code",
   "execution_count": 9,
   "metadata": {},
   "outputs": [
    {
     "name": "stdout",
     "output_type": "stream",
     "text": [
      "[81, 43, 66, 38, 59]\n"
     ]
    }
   ],
   "source": [
    "#sorted\n",
    "li = [59, 38, 81, 66, 43]\n",
    "so = sorted(li, key=lambda x: str(x)[::-1])\n",
    "print(so)"
   ]
  },
  {
   "cell_type": "code",
   "execution_count": 3,
   "metadata": {},
   "outputs": [
    {
     "name": "stdout",
     "output_type": "stream",
     "text": [
      "2\n"
     ]
    }
   ],
   "source": [
    "# getting max\n",
    "li = [1, 0, -1, 2, -3]\n",
    "print(max(li, key=lambda x: x))"
   ]
  },
  {
   "cell_type": "code",
   "execution_count": 6,
   "metadata": {},
   "outputs": [
    {
     "name": "stdout",
     "output_type": "stream",
     "text": [
      "['tip']\n"
     ]
    }
   ],
   "source": [
    "#filter\n",
    "li = ['bat', 'tip', 'cat', 'pet']\n",
    "fr = filter(lambda x: x[1] == 'i', li)\n",
    "print(list(fr))"
   ]
  },
  {
   "cell_type": "code",
   "execution_count": 7,
   "metadata": {},
   "outputs": [
    {
     "name": "stdout",
     "output_type": "stream",
     "text": [
      "[64, 512, 27, 8, 729]\n"
     ]
    }
   ],
   "source": [
    "#map\n",
    "li = [4, 8, 3, 2, 9]\n",
    "mp = map(lambda x: x ** 3, li)\n",
    "print(list(mp))"
   ]
  },
  {
   "cell_type": "code",
   "execution_count": 8,
   "metadata": {},
   "outputs": [
    {
     "name": "stdout",
     "output_type": "stream",
     "text": [
      "2520\n"
     ]
    }
   ],
   "source": [
    "#reduce\n",
    "#used to generate a final single value from a collection of values\n",
    "from functools import reduce\n",
    "\n",
    "li = [5, 7, 3, 4, 6]\n",
    "re = reduce(lambda x, y: x * y, li)\n",
    "print(re)"
   ]
  },
  {
   "cell_type": "code",
   "execution_count": null,
   "metadata": {},
   "outputs": [],
   "source": []
  }
 ],
 "metadata": {
  "kernelspec": {
   "display_name": "Python 3",
   "language": "python",
   "name": "python3"
  },
  "language_info": {
   "codemirror_mode": {
    "name": "ipython",
    "version": 3
   },
   "file_extension": ".py",
   "mimetype": "text/x-python",
   "name": "python",
   "nbconvert_exporter": "python",
   "pygments_lexer": "ipython3",
   "version": "3.10.0"
  },
  "orig_nbformat": 4
 },
 "nbformat": 4,
 "nbformat_minor": 2
}
