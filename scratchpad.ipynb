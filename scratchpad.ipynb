{
 "cells": [
  {
   "cell_type": "code",
   "execution_count": 2,
   "metadata": {},
   "outputs": [
    {
     "name": "stdout",
     "output_type": "stream",
     "text": [
      "23\n"
     ]
    }
   ],
   "source": [
    "s = 0\n",
    "for n in range(1, 10):\n",
    "    if n % 3 == 0 or n % 5 == 0:\n",
    "        s += n\n",
    "print(s)"
   ]
  },
  {
   "cell_type": "code",
   "execution_count": 3,
   "metadata": {},
   "outputs": [
    {
     "name": "stdout",
     "output_type": "stream",
     "text": [
      "23\n"
     ]
    }
   ],
   "source": [
    "m = list()\n",
    "for n in range(1, 10):\n",
    "    if n % 3 == 0 or n % 5 == 0:\n",
    "        m.append(n)\n",
    "print(sum(m))"
   ]
  },
  {
   "cell_type": "code",
   "execution_count": 9,
   "metadata": {},
   "outputs": [
    {
     "data": {
      "text/plain": [
       "[range(1, 10)]"
      ]
     },
     "execution_count": 9,
     "metadata": {},
     "output_type": "execute_result"
    }
   ],
   "source": [
    "class SummableList(list):\n",
    "    def sum( self ):\n",
    "        s= 0\n",
    "        for v in self.__iter__():\n",
    "            s += v\n",
    "            return s\n",
    "\n",
    "x = [range(1,10)]\n",
    "SummableList(x)"
   ]
  },
  {
   "cell_type": "code",
   "execution_count": 9,
   "metadata": {},
   "outputs": [
    {
     "name": "stdout",
     "output_type": "stream",
     "text": [
      "0\n",
      "0\n",
      "0\n",
      "0\n"
     ]
    }
   ],
   "source": [
    "# def runningSum(self, nums: list[int]) -> list[int]:\n",
    "#     runningValue = 0\n",
    "#     outList = []\n",
    "#     for i in nums:\n",
    "#         print(runningValue)\n",
    "#         outList.append(runningValue+i)\n",
    "#     return outList\n",
    "\n",
    "nums = [1,2,3,4]\n",
    "runningValue = 0\n",
    "outList = []\n",
    "for i in nums:\n",
    "    print(runningValue)\n",
    "    outList.append(runningValue+i)"
   ]
  }
 ],
 "metadata": {
  "kernelspec": {
   "display_name": "Python 3.10.0 64-bit",
   "language": "python",
   "name": "python3"
  },
  "language_info": {
   "codemirror_mode": {
    "name": "ipython",
    "version": 3
   },
   "file_extension": ".py",
   "mimetype": "text/x-python",
   "name": "python",
   "nbconvert_exporter": "python",
   "pygments_lexer": "ipython3",
   "version": "3.10.0"
  },
  "orig_nbformat": 4,
  "vscode": {
   "interpreter": {
    "hash": "9d630142dfe4808f1d2467e3a9ffc18dafa67b34947d29d7dd8a23c8c3fac1ef"
   }
  }
 },
 "nbformat": 4,
 "nbformat_minor": 2
}
