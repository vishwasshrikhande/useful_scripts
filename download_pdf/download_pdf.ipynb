{
 "cells": [
  {
   "cell_type": "code",
   "execution_count": null,
   "metadata": {},
   "outputs": [],
   "source": [
    "import requests \n"
   ]
  },
  {
   "cell_type": "code",
   "execution_count": null,
   "metadata": {},
   "outputs": [],
   "source": [
    "def download_usg_req(url):\n",
    "    url = url\n",
    "    response = requests.get(url) \n",
    "    with open('sample.pdf', 'wb') as f: \n",
    "        f.write(response.content)\n",
    "\n",
    "download_usg_req('https://bitcoin.org/bitcoin.pdf')\n"
   ]
  },
  {
   "cell_type": "code",
   "execution_count": null,
   "metadata": {
    "notebookRunGroups": {
     "groupValue": ""
    }
   },
   "outputs": [],
   "source": [
    "def download_usg_urllib(url):\n",
    "    url = url\n",
    "    filename = 'some_file.pdf'\n",
    "    urllib.request.urlretrieve(url, filename)\n",
    "\n",
    "download_usg_urllib('https://bitcoin.org/bitcoin.pdf')"
   ]
  }
 ],
 "metadata": {
  "kernelspec": {
   "display_name": "Python 3",
   "language": "python",
   "name": "python3"
  },
  "language_info": {
   "codemirror_mode": {
    "name": "ipython",
    "version": 3
   },
   "file_extension": ".py",
   "mimetype": "text/x-python",
   "name": "python",
   "nbconvert_exporter": "python",
   "pygments_lexer": "ipython3",
   "version": "3.11.0"
  },
  "orig_nbformat": 4
 },
 "nbformat": 4,
 "nbformat_minor": 2
}
