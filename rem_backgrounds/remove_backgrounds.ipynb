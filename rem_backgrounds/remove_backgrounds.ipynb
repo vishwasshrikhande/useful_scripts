{
 "cells": [
  {
   "cell_type": "code",
   "execution_count": 2,
   "metadata": {},
   "outputs": [],
   "source": [
    "#python3 -m pip install rembg\n",
    "from rembg import remove as rem\n",
    "from PIL import Image"
   ]
  },
  {
   "cell_type": "code",
   "execution_count": 3,
   "metadata": {},
   "outputs": [],
   "source": [
    "def Remove_bg(img):\n",
    "    output = \"removed_bg.png\" \n",
    "    input = Image.open(img)\n",
    "    output_img = rem(input)\n",
    "    output_img.save(output)"
   ]
  },
  {
   "cell_type": "code",
   "execution_count": 4,
   "metadata": {},
   "outputs": [
    {
     "name": "stderr",
     "output_type": "stream",
     "text": [
      "Downloading data from 'https://github.com/danielgatis/rembg/releases/download/v0.0.0/u2net.onnx' to file '/Users/apple/.u2net/u2net.onnx'.\n",
      "100%|████████████████████████████████████████| 176M/176M [00:00<00:00, 343GB/s]\n"
     ]
    }
   ],
   "source": [
    "Remove_bg('input.png')"
   ]
  }
 ],
 "metadata": {
  "kernelspec": {
   "display_name": "Python 3",
   "language": "python",
   "name": "python3"
  },
  "language_info": {
   "codemirror_mode": {
    "name": "ipython",
    "version": 3
   },
   "file_extension": ".py",
   "mimetype": "text/x-python",
   "name": "python",
   "nbconvert_exporter": "python",
   "pygments_lexer": "ipython3",
   "version": "3.11.0"
  },
  "orig_nbformat": 4
 },
 "nbformat": 4,
 "nbformat_minor": 2
}
