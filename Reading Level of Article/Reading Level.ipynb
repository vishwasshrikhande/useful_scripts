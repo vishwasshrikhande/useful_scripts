{
 "cells": [
  {
   "cell_type": "code",
   "execution_count": null,
   "metadata": {},
   "outputs": [],
   "source": [
    "from bs4 import BeautifulSoup\n",
    "import urllib3\n",
    "http = urllib3.PoolManager()\n",
    "page = 'https://www.martechadvisor.com/articles/interactive-marketing/interactive-marketing-tips-mta-experts-2019/'\n",
    "r = http.request('GET',page)\n",
    "r.data"
   ]
  },
  {
   "cell_type": "code",
   "execution_count": null,
   "metadata": {},
   "outputs": [],
   "source": [
    "from readability import Readability\n",
    "\n",
    "text = \"Marketers – aka MTA readers - have been showing a voracious appetite for all content related content…and it’s no surprise either. Some estimates put the budget spent directly or indirectly on content creation/management/ distribution/ analytics at 30% of the marketing budget. And most all players- B2B and B2C – have plans to increase that in 2019. This is because, in the DIY economy, customers – aka ‘all of us’ -   prefer to use publicly-available content to ‘inform ourselves’ about proposed purchases before we actually choose the vendors we want to talk to. This choice is based on the credibility, engagement, experience, and excitement vendors are able to build during the consideration phase, though; most dominantly, content. There are many ways to get the content right, and yet, most marketers will end up falling into one of these content marketing traps: Creating content without compelling insight into the audience who will consume it Not focusing content on the ‘problem the prospect is seeking to solve’ but to say the things they want prospects to hear Creating content but not making it accessible to touchpoints where customers can access, including Salespeople (especially true in B2B situations). Creating too much content instead of intelligently amplifying some content Not basing content strategy on data, not knowing the right performance metrics to focus ons Not connecting content outcomes to business outcomes… the list goes on. It is no surprise that CMOs are frustrated with Content – can’t live without it, don’t know how to elevate it to a more strategic tool – but going to spend more on it anyway. So when we decided to focus on content experiences as a strategic CMO imperative for 2019, who better to share some key lessons than Randy Frisch: Co-Founder, CMO, and President of Uberflip. A company that has been relentlessly championing the cause of Content Experience; and of course; precisely because of that, a company that needs to put their own content experiences where their mouth is. Randy confirms our initial understanding: when embarking on content marketing, the first thing marketers do, is go and create a bunch of content. Or they curate a bunch of content. As Randy puts it, “CMOs jumped in hard on the “idea” of content marketing 5–10 years ago. But the “idea” got a bit confused along the way. Many organizations believed if they simply created content, people would come. You know like Kevin Costner in “Field of Dreams” …if you (create) it they will (buy). Fast forward to recent years, CMOs have realized that creating content isn’t the key to winning - it’s aligning content to the needs of an audience at specific stages of the buyer journey . Randy reminds us of the SiriusDecisions report that found 80 percent of content created goes unused. So, what lies beyond content creation – no matter how great that content may be? “In some ways, marketers are realizing that if content marketing is heavily focused on creation, content experience and content distribution are the real keys to driving engagement.” Here are 3 Content Experience insights we distilled from our conversation with Randy. Lesson 1: Content Marketing is not Content Experience .If content experience is distinct from content marketing, what does “content experience” entail?\"\n",
    "\n",
    "r = Readability(text)\n",
    "b"
   ]
  },
  {
   "cell_type": "code",
   "execution_count": null,
   "metadata": {},
   "outputs": [],
   "source": [
    "#Flesch Kincaid Grade\n",
    "fk = r.flesch_kincaid()\n",
    "print(fk.score)\n",
    "print(fk.grade_level)"
   ]
  },
  {
   "cell_type": "code",
   "execution_count": null,
   "metadata": {},
   "outputs": [],
   "source": [
    "#Flesch Grade\n",
    "fl = r.flesch()\n",
    "print(fl.ease)\n",
    "print(fl.grade_levels)\n",
    "print(fl.score)"
   ]
  }
 ],
 "metadata": {
  "kernelspec": {
   "display_name": "Python 3",
   "language": "python",
   "name": "python3"
  },
  "language_info": {
   "codemirror_mode": {
    "name": "ipython",
    "version": 3
   },
   "file_extension": ".py",
   "mimetype": "text/x-python",
   "name": "python",
   "nbconvert_exporter": "python",
   "pygments_lexer": "ipython3",
   "version": "3.10.0"
  }
 },
 "nbformat": 4,
 "nbformat_minor": 2
}
