{
 "cells": [
  {
   "cell_type": "code",
   "execution_count": 8,
   "metadata": {},
   "outputs": [
    {
     "name": "stdout",
     "output_type": "stream",
     "text": [
      "200\n",
      "<Response [200]>\n",
      "{\"image\":\"https:\\/\\/randomfox.ca\\/images\\/114.jpg\",\"link\":\"https:\\/\\/randomfox.ca\\/?i=114\"}\n"
     ]
    }
   ],
   "source": [
    "import requests\n",
    "response = requests.get(\"http://randomfox.ca/floof\")\n",
    "print(response.status_code)\n",
    "print(response)\n",
    "print(response.text)"
   ]
  },
  {
   "cell_type": "code",
   "execution_count": 9,
   "metadata": {},
   "outputs": [
    {
     "name": "stdout",
     "output_type": "stream",
     "text": [
      "{\"image\":\"https:\\/\\/randomfox.ca\\/images\\/114.jpg\",\"link\":\"https:\\/\\/randomfox.ca\\/?i=114\"}\n"
     ]
    }
   ],
   "source": [
    "data = response.text \n",
    "print(data)\n",
    "# print(data['image'])"
   ]
  },
  {
   "cell_type": "code",
   "execution_count": 10,
   "metadata": {},
   "outputs": [
    {
     "data": {
      "text/plain": [
       "'https://randomfox.ca/images/114.jpg'"
      ]
     },
     "execution_count": 10,
     "metadata": {},
     "output_type": "execute_result"
    }
   ],
   "source": [
    "data2 = response.json()\n",
    "data2['image']\n"
   ]
  }
 ],
 "metadata": {
  "kernelspec": {
   "display_name": "Python 3",
   "language": "python",
   "name": "python3"
  },
  "language_info": {
   "codemirror_mode": {
    "name": "ipython",
    "version": 3
   },
   "file_extension": ".py",
   "mimetype": "text/x-python",
   "name": "python",
   "nbconvert_exporter": "python",
   "pygments_lexer": "ipython3",
   "version": "3.11.0"
  },
  "orig_nbformat": 4
 },
 "nbformat": 4,
 "nbformat_minor": 2
}
